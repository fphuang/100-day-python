{
  "cells": [
    {
      "cell_type": "code",
      "execution_count": 235,
      "metadata": {
        "id": "v0A7lPokfNHg"
      },
      "outputs": [],
      "source": [
        "# For tips on running notebooks in Google Colab, see\n",
        "# https://pytorch.org/tutorials/beginner/colab\n",
        "%matplotlib inline\n",
        "\n",
        "import torch\n",
        "\n",
        "# Device configuration\n",
        "device = torch.device('cuda' if torch.cuda.is_available() else 'cpu')"
      ]
    },
    {
      "cell_type": "markdown",
      "source": [
        "## Prepare Training data"
      ],
      "metadata": {
        "id": "FN-UsjIh4WST"
      }
    },
    {
      "cell_type": "code",
      "source": [
        "import torchvision\n",
        "import torchvision.transforms as transforms\n",
        "\n",
        "\n",
        "# Hyper-parameters\n",
        "batch_size = 100\n",
        "\n",
        "# MNIST dataset\n",
        "train_dataset = torchvision.datasets.MNIST(root='../../data',\n",
        "                                           train=True,\n",
        "                                           transform=transforms.ToTensor(),\n",
        "                                           download=True)\n",
        "\n",
        "test_dataset = torchvision.datasets.MNIST(root='../../data',\n",
        "                                          train=False,\n",
        "                                          transform=transforms.ToTensor())\n",
        "\n",
        "# Data loader\n",
        "train_loader = torch.utils.data.DataLoader(dataset=train_dataset,\n",
        "                                           batch_size=batch_size,\n",
        "                                           shuffle=True)\n",
        "\n",
        "test_loader = torch.utils.data.DataLoader(dataset=test_dataset,\n",
        "                                          batch_size=batch_size,\n",
        "                                          shuffle=False)"
      ],
      "metadata": {
        "id": "lL0iOxov4ZI5"
      },
      "execution_count": 236,
      "outputs": []
    },
    {
      "cell_type": "code",
      "source": [
        "import torch\n",
        "import torch.nn as nn\n",
        "import torchvision\n",
        "\n",
        "\n",
        "# Hyper-parameters\n",
        "input_size = 784\n",
        "hidden_size = 500\n",
        "num_classes = 10\n",
        "\n",
        "# Fully connected neural network with one hidden layer\n",
        "class NeuralNet(nn.Module):\n",
        "    def __init__(self, input_size, hidden_size, num_classes):\n",
        "        super(NeuralNet, self).__init__()\n",
        "        self.stack = nn.Sequential(\n",
        "            nn.Linear(input_size, hidden_size),\n",
        "            nn.ReLU(),\n",
        "            nn.Linear(hidden_size, num_classes),\n",
        "        )\n",
        "\n",
        "    def forward(self, x):\n",
        "        return self.stack(x)\n",
        "\n",
        "\n",
        "model = NeuralNet(input_size, hidden_size, num_classes).to(device)\n"
      ],
      "metadata": {
        "id": "z9RY6dYZuYfx"
      },
      "execution_count": 237,
      "outputs": []
    },
    {
      "cell_type": "code",
      "source": [
        "learning_rate = 0.001\n",
        "optimizer = torch.optim.Adam(model.parameters(), lr=learning_rate)"
      ],
      "metadata": {
        "id": "_RE_DVai-w1l"
      },
      "execution_count": null,
      "outputs": []
    },
    {
      "cell_type": "markdown",
      "source": [
        "## Training"
      ],
      "metadata": {
        "id": "Q-U8nSTy5Xay"
      }
    },
    {
      "cell_type": "code",
      "source": [
        "num_epochs = 20\n",
        "learning_rate = 0.001\n",
        "\n",
        "# Loss and optimizer\n",
        "criterion = nn.CrossEntropyLoss()\n",
        "optimizer = torch.optim.Adam(model.parameters(), lr=learning_rate)\n",
        "\n",
        "# Train the model\n",
        "total_step = len(train_loader)\n",
        "for epoch in range(num_epochs):\n",
        "    for i, (images, labels) in enumerate(train_loader):\n",
        "        # Move tensors to the configured device\n",
        "        images = images.reshape(-1, 28*28).to(device)\n",
        "        labels = labels.to(device)\n",
        "\n",
        "        # Forward pass\n",
        "        outputs = model(images)\n",
        "        loss = criterion(outputs, labels)\n",
        "\n",
        "        # Backward and optimize\n",
        "        optimizer.zero_grad()\n",
        "        loss.backward()\n",
        "        optimizer.step()\n",
        "\n",
        "        if (i+1) % 100 == 0:\n",
        "            print(f'Epoch [{epoch+1}/{num_epochs}], Step [{i+1}/{total_step}], Loss: {loss.item():.4f}')\n",
        "\n"
      ],
      "metadata": {
        "id": "ju8h9CFy5Yua",
        "outputId": "235b107a-a85e-4db9-f443-7a5e1107b328",
        "colab": {
          "base_uri": "https://localhost:8080/"
        }
      },
      "execution_count": null,
      "outputs": [
        {
          "output_type": "stream",
          "name": "stdout",
          "text": [
            "Epoch [1/20], Step [100/600], Loss: 0.0064\n",
            "Epoch [1/20], Step [200/600], Loss: 0.0027\n",
            "Epoch [1/20], Step [300/600], Loss: 0.0011\n",
            "Epoch [1/20], Step [400/600], Loss: 0.0174\n",
            "Epoch [1/20], Step [500/600], Loss: 0.0186\n",
            "Epoch [1/20], Step [600/600], Loss: 0.0073\n",
            "Epoch [2/20], Step [100/600], Loss: 0.0008\n",
            "Epoch [2/20], Step [200/600], Loss: 0.0053\n",
            "Epoch [2/20], Step [300/600], Loss: 0.0084\n",
            "Epoch [2/20], Step [400/600], Loss: 0.0114\n",
            "Epoch [2/20], Step [500/600], Loss: 0.0029\n",
            "Epoch [2/20], Step [600/600], Loss: 0.0044\n",
            "Epoch [3/20], Step [100/600], Loss: 0.0045\n",
            "Epoch [3/20], Step [200/600], Loss: 0.0057\n",
            "Epoch [3/20], Step [300/600], Loss: 0.0005\n",
            "Epoch [3/20], Step [400/600], Loss: 0.0022\n",
            "Epoch [3/20], Step [500/600], Loss: 0.0027\n",
            "Epoch [3/20], Step [600/600], Loss: 0.0187\n",
            "Epoch [4/20], Step [100/600], Loss: 0.0054\n",
            "Epoch [4/20], Step [200/600], Loss: 0.0003\n",
            "Epoch [4/20], Step [300/600], Loss: 0.0019\n",
            "Epoch [4/20], Step [400/600], Loss: 0.0018\n",
            "Epoch [4/20], Step [500/600], Loss: 0.0019\n",
            "Epoch [4/20], Step [600/600], Loss: 0.0029\n",
            "Epoch [5/20], Step [100/600], Loss: 0.0060\n",
            "Epoch [5/20], Step [200/600], Loss: 0.0033\n",
            "Epoch [5/20], Step [300/600], Loss: 0.0079\n",
            "Epoch [5/20], Step [400/600], Loss: 0.0051\n",
            "Epoch [5/20], Step [500/600], Loss: 0.0044\n",
            "Epoch [5/20], Step [600/600], Loss: 0.0067\n",
            "Epoch [6/20], Step [100/600], Loss: 0.0102\n",
            "Epoch [6/20], Step [200/600], Loss: 0.0003\n",
            "Epoch [6/20], Step [300/600], Loss: 0.0025\n",
            "Epoch [6/20], Step [400/600], Loss: 0.0012\n",
            "Epoch [6/20], Step [500/600], Loss: 0.0055\n",
            "Epoch [6/20], Step [600/600], Loss: 0.0011\n",
            "Epoch [7/20], Step [100/600], Loss: 0.0017\n",
            "Epoch [7/20], Step [200/600], Loss: 0.0020\n",
            "Epoch [7/20], Step [300/600], Loss: 0.0034\n",
            "Epoch [7/20], Step [400/600], Loss: 0.0099\n",
            "Epoch [7/20], Step [500/600], Loss: 0.0014\n",
            "Epoch [7/20], Step [600/600], Loss: 0.0132\n",
            "Epoch [8/20], Step [100/600], Loss: 0.0004\n",
            "Epoch [8/20], Step [200/600], Loss: 0.0049\n",
            "Epoch [8/20], Step [300/600], Loss: 0.0005\n",
            "Epoch [8/20], Step [400/600], Loss: 0.0003\n",
            "Epoch [8/20], Step [500/600], Loss: 0.0021\n",
            "Epoch [8/20], Step [600/600], Loss: 0.0022\n",
            "Epoch [9/20], Step [100/600], Loss: 0.0003\n",
            "Epoch [9/20], Step [200/600], Loss: 0.0067\n",
            "Epoch [9/20], Step [300/600], Loss: 0.0025\n",
            "Epoch [9/20], Step [400/600], Loss: 0.0372\n",
            "Epoch [9/20], Step [500/600], Loss: 0.0144\n",
            "Epoch [9/20], Step [600/600], Loss: 0.0232\n",
            "Epoch [10/20], Step [100/600], Loss: 0.0012\n",
            "Epoch [10/20], Step [200/600], Loss: 0.0018\n"
          ]
        }
      ]
    },
    {
      "cell_type": "markdown",
      "source": [
        "## Evaluate"
      ],
      "metadata": {
        "id": "3JBEV6BC53TG"
      }
    },
    {
      "cell_type": "code",
      "source": [
        "# Test the model\n",
        "# In test phase, we don't need to compute gradients (for memory efficiency)\n",
        "with torch.no_grad():\n",
        "    correct = 0\n",
        "    total = 0\n",
        "    for images, labels in test_loader:\n",
        "        images = images.reshape(-1, 28*28).to(device)\n",
        "        labels = labels.to(device)\n",
        "        outputs = model(images)\n",
        "        _, predicted = torch.max(outputs.data, 1)\n",
        "        total += labels.size(0)\n",
        "        correct += (predicted == labels).sum().item()\n",
        "\n",
        "    print('Accuracy of the network on the 10000 test images: {} %'.format(100 * correct / total))\n",
        "\n",
        "# Save the model checkpoint\n",
        "torch.save(model.state_dict(), 'model.pt')"
      ],
      "metadata": {
        "id": "hyCpXjma54Rm",
        "outputId": "19ff6dde-9c9a-4eba-c106-7489b1cda4b6",
        "colab": {
          "base_uri": "https://localhost:8080/"
        }
      },
      "execution_count": 239,
      "outputs": [
        {
          "output_type": "stream",
          "name": "stdout",
          "text": [
            "Accuracy of the network on the 10000 test images: 97.89 %\n"
          ]
        }
      ]
    },
    {
      "cell_type": "code",
      "source": [],
      "metadata": {
        "id": "h7SwBFHc6oLx"
      },
      "execution_count": null,
      "outputs": []
    },
    {
      "cell_type": "markdown",
      "source": [
        "## Load Model and Prediction"
      ],
      "metadata": {
        "id": "MCjNq2P-6ta9"
      }
    },
    {
      "cell_type": "code",
      "source": [
        "model1 = NeuralNet(input_size, hidden_size, num_classes).to(device)\n",
        "model1.load_state_dict(torch.load('model.pt'))"
      ],
      "metadata": {
        "id": "exFBaYWs6wcD",
        "outputId": "b7513eb0-e2cd-4148-b27a-59b12b944a3d",
        "colab": {
          "base_uri": "https://localhost:8080/"
        }
      },
      "execution_count": 240,
      "outputs": [
        {
          "output_type": "stream",
          "name": "stderr",
          "text": [
            "<ipython-input-240-64fd1bacb7f1>:2: FutureWarning: You are using `torch.load` with `weights_only=False` (the current default value), which uses the default pickle module implicitly. It is possible to construct malicious pickle data which will execute arbitrary code during unpickling (See https://github.com/pytorch/pytorch/blob/main/SECURITY.md#untrusted-models for more details). In a future release, the default value for `weights_only` will be flipped to `True`. This limits the functions that could be executed during unpickling. Arbitrary objects will no longer be allowed to be loaded via this mode unless they are explicitly allowlisted by the user via `torch.serialization.add_safe_globals`. We recommend you start setting `weights_only=True` for any use case where you don't have full control of the loaded file. Please open an issue on GitHub for any issues related to this experimental feature.\n",
            "  model1.load_state_dict(torch.load('model.pt'))\n"
          ]
        },
        {
          "output_type": "execute_result",
          "data": {
            "text/plain": [
              "<All keys matched successfully>"
            ]
          },
          "metadata": {},
          "execution_count": 240
        }
      ]
    },
    {
      "cell_type": "code",
      "source": [
        "batch1 = iter(test_loader)\n",
        "type(batch1)"
      ],
      "metadata": {
        "id": "QIlvnapW62NF",
        "outputId": "686b4181-352f-4f78-bb7a-ca4f79ac4eeb",
        "colab": {
          "base_uri": "https://localhost:8080/",
          "height": 121
        }
      },
      "execution_count": 247,
      "outputs": [
        {
          "output_type": "execute_result",
          "data": {
            "text/plain": [
              "torch.utils.data.dataloader._SingleProcessDataLoaderIter"
            ],
            "text/html": [
              "<div style=\"max-width:800px; border: 1px solid var(--colab-border-color);\"><style>\n",
              "      pre.function-repr-contents {\n",
              "        overflow-x: auto;\n",
              "        padding: 8px 12px;\n",
              "        max-height: 500px;\n",
              "      }\n",
              "\n",
              "      pre.function-repr-contents.function-repr-contents-collapsed {\n",
              "        cursor: pointer;\n",
              "        max-height: 100px;\n",
              "      }\n",
              "    </style>\n",
              "    <pre style=\"white-space: initial; background:\n",
              "         var(--colab-secondary-surface-color); padding: 8px 12px;\n",
              "         border-bottom: 1px solid var(--colab-border-color);\"><b>torch.utils.data.dataloader._SingleProcessDataLoaderIter</b><br/>def __init__(loader)</pre><pre class=\"function-repr-contents function-repr-contents-collapsed\" style=\"\"><a class=\"filepath\" style=\"display:none\" href=\"#\">/usr/local/lib/python3.11/dist-packages/torch/utils/data/dataloader.py</a>&lt;no docstring&gt;</pre>\n",
              "      <script>\n",
              "      if (google.colab.kernel.accessAllowed && google.colab.files && google.colab.files.view) {\n",
              "        for (const element of document.querySelectorAll('.filepath')) {\n",
              "          element.style.display = 'block'\n",
              "          element.onclick = (event) => {\n",
              "            event.preventDefault();\n",
              "            event.stopPropagation();\n",
              "            google.colab.files.view(element.textContent, 733);\n",
              "          };\n",
              "        }\n",
              "      }\n",
              "      for (const element of document.querySelectorAll('.function-repr-contents')) {\n",
              "        element.onclick = (event) => {\n",
              "          event.preventDefault();\n",
              "          event.stopPropagation();\n",
              "          element.classList.toggle('function-repr-contents-collapsed');\n",
              "        };\n",
              "      }\n",
              "      </script>\n",
              "      </div>"
            ]
          },
          "metadata": {},
          "execution_count": 247
        }
      ]
    },
    {
      "cell_type": "code",
      "source": [
        "imgs, labels = next(batch1)"
      ],
      "metadata": {
        "id": "Ihpzzq_H7EuQ"
      },
      "execution_count": 248,
      "outputs": []
    },
    {
      "cell_type": "code",
      "source": [
        "for k in range(batch_size):\n",
        "  img = imgs[k].reshape(-1, 28*28).to(device)\n",
        "  label = labels[k].to(device)\n",
        "  output = model1(img)\n",
        "  pred = output.argmax(dim=1).item()\n",
        "  actual = label.item()\n",
        "  if pred != actual:\n",
        "    print(f\"*{k}* prediction: \", pred, \" actual: \", actual)\n",
        "  else:\n",
        "    print(f\"*{k}p* rediction/label: \", pred)"
      ],
      "metadata": {
        "id": "0EUKKQkp7IkY"
      },
      "execution_count": null,
      "outputs": []
    },
    {
      "cell_type": "code",
      "source": [
        "import matplotlib.pyplot as plt"
      ],
      "metadata": {
        "id": "5d15YkT_7JwI"
      },
      "execution_count": 259,
      "outputs": []
    },
    {
      "cell_type": "code",
      "source": [
        "img = imgs[85].reshape(-1, 28*28)\n",
        "img = img.reshape(28, 28)\n",
        "plt.axis('off')\n",
        "plt.imshow(img, cmap='gray')\n"
      ],
      "metadata": {
        "id": "mRnBrTdm7TwN",
        "outputId": "a1b7c8af-829b-4a8a-b640-a7f6af15f814",
        "colab": {
          "base_uri": "https://localhost:8080/",
          "height": 424
        }
      },
      "execution_count": 271,
      "outputs": [
        {
          "output_type": "execute_result",
          "data": {
            "text/plain": [
              "<matplotlib.image.AxesImage at 0x786c5662cb10>"
            ]
          },
          "metadata": {},
          "execution_count": 271
        },
        {
          "output_type": "display_data",
          "data": {
            "text/plain": [
              "<Figure size 640x480 with 1 Axes>"
            ],
            "image/png": "[encoded data removed]"
          },
          "metadata": {}
        }
      ]
    },
    {
      "cell_type": "code",
      "source": [],
      "metadata": {
        "id": "GjIdrEEn9YEd",
        "outputId": "1629c75e-eb01-419c-c7b7-3a3b0760a0f8",
        "colab": {
          "base_uri": "https://localhost:8080/"
        }
      },
      "execution_count": 278,
      "outputs": [
        {
          "output_type": "execute_result",
          "data": {
            "text/plain": [
              "64"
            ]
          },
          "metadata": {},
          "execution_count": 278
        }
      ]
    },
    {
      "cell_type": "code",
      "source": [
        "len(test_dataset)"
      ],
      "metadata": {
        "id": "rvfY8vXK-DPQ",
        "outputId": "8c9bd66d-10f5-4c67-86a2-973e760b726f",
        "colab": {
          "base_uri": "https://localhost:8080/"
        }
      },
      "execution_count": 273,
      "outputs": [
        {
          "output_type": "execute_result",
          "data": {
            "text/plain": [
              "10000"
            ]
          },
          "metadata": {},
          "execution_count": 273
        }
      ]
    },
    {
      "cell_type": "code",
      "source": [],
      "metadata": {
        "id": "YsZ27I-3-GDl"
      },
      "execution_count": null,
      "outputs": []
    }
  ],
  "metadata": {
    "kernelspec": {
      "display_name": "Python 3",
      "language": "python",
      "name": "python3"
    },
    "language_info": {
      "codemirror_mode": {
        "name": "ipython",
        "version": 3
      },
      "file_extension": ".py",
      "mimetype": "text/x-python",
      "name": "python",
      "nbconvert_exporter": "python",
      "pygments_lexer": "ipython3",
      "version": "3.10.12"
    },
    "colab": {
      "provenance": []
    }
  },
  "nbformat": 4,
  "nbformat_minor": 0
}